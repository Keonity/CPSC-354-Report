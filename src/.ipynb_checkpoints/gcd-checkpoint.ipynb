{
 "cells": [
  {
   "cell_type": "code",
   "execution_count": 13,
   "id": "9cf68f6b",
   "metadata": {},
   "outputs": [
    {
     "name": "stdout",
     "output_type": "stream",
     "text": [
      "Please enter integer A\n",
      "a: 9\n",
      "Please enter integer B\n",
      "b: 33\n",
      "The greatest common divisor is: 3\n"
     ]
    }
   ],
   "source": [
    "print(\"Please enter integer A\")\n",
    "aString = input(\"a: \")\n",
    "while True:\n",
    "    try: \n",
    "        a = int(aString)\n",
    "        break\n",
    "    except ValueError:\n",
    "        print(\"Not an integer. Please try again.\")\n",
    "        print(\"Please enter INTEGER A\")\n",
    "        aString = input(\"a: \")\n",
    "    \n",
    "print(\"Please enter integer B\")\n",
    "bString = input(\"b: \")\n",
    "while True:\n",
    "    try: \n",
    "        b = int(bString)\n",
    "        break\n",
    "    except ValueError:\n",
    "        print(\"Not an integer. Please try again.\")\n",
    "        print(\"Please enter INTEGER B\")\n",
    "        bString = input(\"b: \")\n",
    "\n",
    "a = int(aString)\n",
    "b = int(bString)\n",
    "\n",
    "while (a != b):\n",
    "    if (a > b):\n",
    "        a = a - b\n",
    "    elif (b > a):\n",
    "        b = b - a\n",
    "        \n",
    "print (\"The greatest common divisor is: \" + str(a))"
   ]
  },
  {
   "cell_type": "code",
   "execution_count": null,
   "id": "49ebd2b6",
   "metadata": {},
   "outputs": [],
   "source": []
  }
 ],
 "metadata": {
  "kernelspec": {
   "display_name": "Python 3 (ipykernel)",
   "language": "python",
   "name": "python3"
  },
  "language_info": {
   "codemirror_mode": {
    "name": "ipython",
    "version": 3
   },
   "file_extension": ".py",
   "mimetype": "text/x-python",
   "name": "python",
   "nbconvert_exporter": "python",
   "pygments_lexer": "ipython3",
   "version": "3.9.7"
  }
 },
 "nbformat": 4,
 "nbformat_minor": 5
}
